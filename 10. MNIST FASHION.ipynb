{
 "cells": [
  {
   "cell_type": "markdown",
   "metadata": {},
   "source": [
    "# Test Yourk Installation"
   ]
  },
  {
   "cell_type": "code",
   "execution_count": 38,
   "metadata": {},
   "outputs": [
    {
     "data": {
      "text/plain": [
       "'2.5.0'"
      ]
     },
     "execution_count": 38,
     "metadata": {},
     "output_type": "execute_result"
    }
   ],
   "source": [
    "import tensorflow as tf\n",
    "from tensorflow import keras\n",
    "\n",
    "tf.__version__"
   ]
  },
  {
   "cell_type": "code",
   "execution_count": 39,
   "metadata": {},
   "outputs": [
    {
     "data": {
      "text/plain": [
       "'2.5.0'"
      ]
     },
     "execution_count": 39,
     "metadata": {},
     "output_type": "execute_result"
    }
   ],
   "source": [
    "keras.__version__"
   ]
  },
  {
   "cell_type": "markdown",
   "metadata": {},
   "source": [
    "# Building an Image Classifier Using the Sequential API"
   ]
  },
  {
   "cell_type": "markdown",
   "metadata": {},
   "source": [
    "First:\n",
    "    1. we need to load a dataset.\n",
    "    2. we will tackle the Fashion MNIST, which is a drop in replacement of MNIST.\n",
    "    3. but the images represent fashion items rather than handritten digits.\n",
    "    4. so each class is more diverse and the problem turns out to be significantly more challenging than MNIST."
   ]
  },
  {
   "cell_type": "code",
   "execution_count": 40,
   "metadata": {},
   "outputs": [],
   "source": [
    "fashion_mnist = keras.datasets.fashion_mnist\n",
    "(X_train_full, y_train_full), (X_test, y_test) = fashion_mnist.load_data()"
   ]
  },
  {
   "cell_type": "code",
   "execution_count": 41,
   "metadata": {},
   "outputs": [
    {
     "data": {
      "text/plain": [
       "(60000, 28, 28)"
      ]
     },
     "execution_count": 41,
     "metadata": {},
     "output_type": "execute_result"
    }
   ],
   "source": [
    "X_train_full.shape"
   ]
  },
  {
   "cell_type": "code",
   "execution_count": 42,
   "metadata": {},
   "outputs": [
    {
     "data": {
      "text/plain": [
       "dtype('uint8')"
      ]
     },
     "execution_count": 42,
     "metadata": {},
     "output_type": "execute_result"
    }
   ],
   "source": [
    "X_train_full.dtype"
   ]
  },
  {
   "cell_type": "markdown",
   "metadata": {},
   "source": [
    "Note:\n",
    "    1. the dataset is already split into a training set and a test set\n",
    "    2. there is no validation set, so let's craete one"
   ]
  },
  {
   "cell_type": "markdown",
   "metadata": {},
   "source": [
    "Moreover:\n",
    "    1. since we are going to train the neural network using Gradient Descent.\n",
    "    2. we must scale the input features.\n",
    "    3. for the simplicity, we just scale the pixel intensities down to the 0- 1, range by dividing themby 255,\n",
    "    4. this is also convert the floats."
   ]
  },
  {
   "cell_type": "code",
   "execution_count": 55,
   "metadata": {},
   "outputs": [],
   "source": [
    "from sklearn.model_selection import train_test_split\n",
    "\n",
    "X_trian, X_valid, y_train, y_valid = train_test_split(X_train_full, y_train_full, test_size=0.2, random_state=42)"
   ]
  },
  {
   "cell_type": "code",
   "execution_count": 59,
   "metadata": {},
   "outputs": [],
   "source": [
    "X_train, X_valid = X_train / 255.0, X_valid / 255.0 #X_valid, X_train, range from 0 to 1"
   ]
  },
  {
   "cell_type": "markdown",
   "metadata": {},
   "source": [
    "WIth:\n",
    "    1. MNIST, when the label is equal to 5, it means that image represents the handwritten digit 5\n",
    "    2. However, for Fashion MNIST, we need the list of class names to know what we are dealing with."
   ]
  },
  {
   "cell_type": "code",
   "execution_count": 44,
   "metadata": {},
   "outputs": [],
   "source": [
    "class_names = ['T-shirt/top', 'Trouser', 'Pullover', 'Dress', 'Coat', 'Sandal', 'Shirt', 'Sneaker', 'Bag', 'Ankle boot']"
   ]
  },
  {
   "cell_type": "markdown",
   "metadata": {},
   "source": [
    "For example:\n",
    "    1. the first image in the training set response a coat."
   ]
  },
  {
   "cell_type": "code",
   "execution_count": 45,
   "metadata": {},
   "outputs": [
    {
     "data": {
      "text/plain": [
       "'Coat'"
      ]
     },
     "execution_count": 45,
     "metadata": {},
     "output_type": "execute_result"
    }
   ],
   "source": [
    "class_names[y_train[0]]"
   ]
  },
  {
   "cell_type": "markdown",
   "metadata": {},
   "source": [
    "# Creating the Model Using the Sequential API"
   ]
  },
  {
   "cell_type": "code",
   "execution_count": 10,
   "metadata": {},
   "outputs": [],
   "source": [
    "model = keras.models.Sequential()\n",
    "model.add(keras.layers.Flatten(input_shape=[28, 28]))\n",
    "model.add(keras.layers.Dense(300, activation='relu'))\n",
    "model.add(keras.layers.Dense(100, activation='relu'))\n",
    "model.add(keras.layers.Dense(10, activation='softmax'))"
   ]
  },
  {
   "cell_type": "code",
   "execution_count": 13,
   "metadata": {},
   "outputs": [
    {
     "name": "stdout",
     "output_type": "stream",
     "text": [
      "Model: \"sequential\"\n",
      "_________________________________________________________________\n",
      "Layer (type)                 Output Shape              Param #   \n",
      "=================================================================\n",
      "flatten (Flatten)            (None, 784)               0         \n",
      "_________________________________________________________________\n",
      "dense (Dense)                (None, 300)               235500    \n",
      "_________________________________________________________________\n",
      "dense_1 (Dense)              (None, 100)               30100     \n",
      "_________________________________________________________________\n",
      "dense_2 (Dense)              (None, 10)                1010      \n",
      "=================================================================\n",
      "Total params: 266,610\n",
      "Trainable params: 266,610\n",
      "Non-trainable params: 0\n",
      "_________________________________________________________________\n"
     ]
    }
   ],
   "source": [
    "# display all the model's layers, None means batch size can be anything\n",
    "model.summary()"
   ]
  },
  {
   "cell_type": "code",
   "execution_count": 14,
   "metadata": {},
   "outputs": [
    {
     "data": {
      "text/plain": [
       "[<tensorflow.python.keras.layers.core.Flatten at 0x12c88eefb38>,\n",
       " <tensorflow.python.keras.layers.core.Dense at 0x12c88eefdd8>,\n",
       " <tensorflow.python.keras.layers.core.Dense at 0x12c8f306978>,\n",
       " <tensorflow.python.keras.layers.core.Dense at 0x12c8f391908>]"
      ]
     },
     "execution_count": 14,
     "metadata": {},
     "output_type": "execute_result"
    }
   ],
   "source": [
    "model.layers"
   ]
  },
  {
   "cell_type": "code",
   "execution_count": 15,
   "metadata": {},
   "outputs": [
    {
     "data": {
      "text/plain": [
       "<tensorflow.python.keras.layers.core.Dense at 0x12c88eefdd8>"
      ]
     },
     "execution_count": 15,
     "metadata": {},
     "output_type": "execute_result"
    }
   ],
   "source": [
    "#  fetch a layer by it's index\n",
    "model.layers[1]"
   ]
  },
  {
   "cell_type": "code",
   "execution_count": 16,
   "metadata": {},
   "outputs": [
    {
     "data": {
      "text/plain": [
       "'dense_2'"
      ]
     },
     "execution_count": 16,
     "metadata": {},
     "output_type": "execute_result"
    }
   ],
   "source": [
    "#  fetch a layer by it's name\n",
    "model.get_layer('dense_2').name"
   ]
  },
  {
   "cell_type": "code",
   "execution_count": 17,
   "metadata": {},
   "outputs": [],
   "source": [
    "weights, biases = model.layers[1].get_weights()"
   ]
  },
  {
   "cell_type": "code",
   "execution_count": 18,
   "metadata": {},
   "outputs": [
    {
     "data": {
      "text/plain": [
       "array([[-0.01330298,  0.01623482, -0.06464295, ..., -0.02638816,\n",
       "         0.02536875,  0.03286172],\n",
       "       [ 0.03042108, -0.03566369,  0.01817931, ..., -0.06447882,\n",
       "        -0.04660165,  0.01223708],\n",
       "       [-0.0241818 , -0.05938692,  0.04832375, ...,  0.00160716,\n",
       "         0.06783053, -0.01364114],\n",
       "       ...,\n",
       "       [-0.06256106,  0.05910307,  0.00945903, ..., -0.07301901,\n",
       "         0.00769576, -0.06264027],\n",
       "       [ 0.02287759,  0.05458528, -0.03168743, ..., -0.05016948,\n",
       "         0.0280839 , -0.0034865 ],\n",
       "       [-0.01046801,  0.0111837 , -0.06980243, ...,  0.07428327,\n",
       "        -0.01388569, -0.01479949]], dtype=float32)"
      ]
     },
     "execution_count": 18,
     "metadata": {},
     "output_type": "execute_result"
    }
   ],
   "source": [
    "weights"
   ]
  },
  {
   "cell_type": "code",
   "execution_count": 19,
   "metadata": {},
   "outputs": [
    {
     "data": {
      "text/plain": [
       "(784, 300)"
      ]
     },
     "execution_count": 19,
     "metadata": {},
     "output_type": "execute_result"
    }
   ],
   "source": [
    "weights.shape"
   ]
  },
  {
   "cell_type": "code",
   "execution_count": 20,
   "metadata": {},
   "outputs": [
    {
     "data": {
      "text/plain": [
       "(300,)"
      ]
     },
     "execution_count": 20,
     "metadata": {},
     "output_type": "execute_result"
    }
   ],
   "source": [
    "biases.shape"
   ]
  },
  {
   "cell_type": "code",
   "execution_count": 21,
   "metadata": {},
   "outputs": [
    {
     "data": {
      "text/plain": [
       "array([0., 0., 0., 0., 0., 0., 0., 0., 0., 0., 0., 0., 0., 0., 0., 0., 0.,\n",
       "       0., 0., 0., 0., 0., 0., 0., 0., 0., 0., 0., 0., 0., 0., 0., 0., 0.,\n",
       "       0., 0., 0., 0., 0., 0., 0., 0., 0., 0., 0., 0., 0., 0., 0., 0., 0.,\n",
       "       0., 0., 0., 0., 0., 0., 0., 0., 0., 0., 0., 0., 0., 0., 0., 0., 0.,\n",
       "       0., 0., 0., 0., 0., 0., 0., 0., 0., 0., 0., 0., 0., 0., 0., 0., 0.,\n",
       "       0., 0., 0., 0., 0., 0., 0., 0., 0., 0., 0., 0., 0., 0., 0., 0., 0.,\n",
       "       0., 0., 0., 0., 0., 0., 0., 0., 0., 0., 0., 0., 0., 0., 0., 0., 0.,\n",
       "       0., 0., 0., 0., 0., 0., 0., 0., 0., 0., 0., 0., 0., 0., 0., 0., 0.,\n",
       "       0., 0., 0., 0., 0., 0., 0., 0., 0., 0., 0., 0., 0., 0., 0., 0., 0.,\n",
       "       0., 0., 0., 0., 0., 0., 0., 0., 0., 0., 0., 0., 0., 0., 0., 0., 0.,\n",
       "       0., 0., 0., 0., 0., 0., 0., 0., 0., 0., 0., 0., 0., 0., 0., 0., 0.,\n",
       "       0., 0., 0., 0., 0., 0., 0., 0., 0., 0., 0., 0., 0., 0., 0., 0., 0.,\n",
       "       0., 0., 0., 0., 0., 0., 0., 0., 0., 0., 0., 0., 0., 0., 0., 0., 0.,\n",
       "       0., 0., 0., 0., 0., 0., 0., 0., 0., 0., 0., 0., 0., 0., 0., 0., 0.,\n",
       "       0., 0., 0., 0., 0., 0., 0., 0., 0., 0., 0., 0., 0., 0., 0., 0., 0.,\n",
       "       0., 0., 0., 0., 0., 0., 0., 0., 0., 0., 0., 0., 0., 0., 0., 0., 0.,\n",
       "       0., 0., 0., 0., 0., 0., 0., 0., 0., 0., 0., 0., 0., 0., 0., 0., 0.,\n",
       "       0., 0., 0., 0., 0., 0., 0., 0., 0., 0., 0.], dtype=float32)"
      ]
     },
     "execution_count": 21,
     "metadata": {},
     "output_type": "execute_result"
    }
   ],
   "source": [
    "biases"
   ]
  },
  {
   "cell_type": "markdown",
   "metadata": {},
   "source": [
    "# Compiling the Model"
   ]
  },
  {
   "cell_type": "markdown",
   "metadata": {},
   "source": [
    "After the model is created:\n",
    "    1. you must call it's compile(), method to specify the loss-function and the optimizer to use\n",
    "    2. Optionally, you can also specify a list of extra metrics to compute during training and evaluation"
   ]
  },
  {
   "cell_type": "code",
   "execution_count": 22,
   "metadata": {},
   "outputs": [],
   "source": [
    "model.compile(loss='sparse_categorical_crossentropy', optimizer='sgd', metrics=['accuracy'])"
   ]
  },
  {
   "cell_type": "markdown",
   "metadata": {},
   "source": [
    "First:\n",
    "    1. we use the 'sparse_cagtegorical_crossentropy', loss\n",
    "    2. becuase, we have sparse labels(for each instance there is just a target class index, from 0 to 9 in this case)\n",
    "    3. and the classes are exclusive.\n",
    "    4. if instead we had one target probability per class for each instance(such as one-hot vectors)\n",
    "    5. then, we would need fication, (which is one, or more binary labels)\n",
    "    6. then, we would use the 'sigmoid', (i,e logistic) activation function in the output layer instead of the 'softmax' activation function\n",
    "    7. and we would use the 'binary_crossentropy', loss"
   ]
  },
  {
   "cell_type": "markdown",
   "metadata": {},
   "source": [
    "Finally:\n",
    "    1. since this is a classifier,\n",
    "    2. it's useful to measure it's 'accuracy', during training and evaluation"
   ]
  },
  {
   "cell_type": "markdown",
   "metadata": {},
   "source": [
    "# Training and Evaluation the Mdel"
   ]
  },
  {
   "cell_type": "markdown",
   "metadata": {},
   "source": [
    "Keras:\n",
    "    1. will measure the loss and the extra metrics on this set at the end of each epoch.\n",
    "    2. which is very useful set to see how well the model really performs\n",
    "    3. if the performance on the training set is much better on the validation set, your model is probably, # OVerfitting, the training set.\n",
    "    4. Or, there's a bug, such as a data mismatch between the training set and the validaltion set."
   ]
  },
  {
   "cell_type": "code",
   "execution_count": 24,
   "metadata": {},
   "outputs": [
    {
     "name": "stdout",
     "output_type": "stream",
     "text": [
      "Epoch 1/30\n",
      "1719/1719 [==============================] - 5s 3ms/step - loss: 0.2219 - accuracy: 0.9198 - val_loss: 0.2938 - val_accuracy: 0.8966\n",
      "Epoch 2/30\n",
      "1719/1719 [==============================] - 5s 3ms/step - loss: 0.2189 - accuracy: 0.9202 - val_loss: 0.2863 - val_accuracy: 0.8958\n",
      "Epoch 3/30\n",
      "1719/1719 [==============================] - 5s 3ms/step - loss: 0.2147 - accuracy: 0.9219 - val_loss: 0.2904 - val_accuracy: 0.8964\n",
      "Epoch 4/30\n",
      "1719/1719 [==============================] - 5s 3ms/step - loss: 0.2103 - accuracy: 0.9239 - val_loss: 0.3069 - val_accuracy: 0.8896\n",
      "Epoch 5/30\n",
      "1719/1719 [==============================] - 5s 3ms/step - loss: 0.2073 - accuracy: 0.9241 - val_loss: 0.2895 - val_accuracy: 0.8934\n",
      "Epoch 6/30\n",
      "1719/1719 [==============================] - 5s 3ms/step - loss: 0.2038 - accuracy: 0.9263 - val_loss: 0.2909 - val_accuracy: 0.8948\n",
      "Epoch 7/30\n",
      "1719/1719 [==============================] - 5s 3ms/step - loss: 0.2002 - accuracy: 0.9275 - val_loss: 0.2902 - val_accuracy: 0.8956\n",
      "Epoch 8/30\n",
      "1719/1719 [==============================] - 5s 3ms/step - loss: 0.1987 - accuracy: 0.9276 - val_loss: 0.2932 - val_accuracy: 0.8948\n",
      "Epoch 9/30\n",
      "1719/1719 [==============================] - 5s 3ms/step - loss: 0.1949 - accuracy: 0.9301 - val_loss: 0.3060 - val_accuracy: 0.8910\n",
      "Epoch 10/30\n",
      "1719/1719 [==============================] - 5s 3ms/step - loss: 0.1904 - accuracy: 0.9314 - val_loss: 0.2996 - val_accuracy: 0.8924\n",
      "Epoch 11/30\n",
      "1719/1719 [==============================] - 5s 3ms/step - loss: 0.1886 - accuracy: 0.9309 - val_loss: 0.2886 - val_accuracy: 0.8950\n",
      "Epoch 12/30\n",
      "1719/1719 [==============================] - 5s 3ms/step - loss: 0.1852 - accuracy: 0.9335 - val_loss: 0.2855 - val_accuracy: 0.8972\n",
      "Epoch 13/30\n",
      "1719/1719 [==============================] - 5s 3ms/step - loss: 0.1823 - accuracy: 0.9343 - val_loss: 0.3057 - val_accuracy: 0.8926\n",
      "Epoch 14/30\n",
      "1719/1719 [==============================] - 5s 3ms/step - loss: 0.1797 - accuracy: 0.9346 - val_loss: 0.2998 - val_accuracy: 0.8920\n",
      "Epoch 15/30\n",
      "1719/1719 [==============================] - 5s 3ms/step - loss: 0.1764 - accuracy: 0.9371 - val_loss: 0.3070 - val_accuracy: 0.8880\n",
      "Epoch 16/30\n",
      "1719/1719 [==============================] - 5s 3ms/step - loss: 0.1740 - accuracy: 0.9380 - val_loss: 0.3018 - val_accuracy: 0.8948\n",
      "Epoch 17/30\n",
      "1719/1719 [==============================] - 5s 3ms/step - loss: 0.1713 - accuracy: 0.9379 - val_loss: 0.3018 - val_accuracy: 0.8970\n",
      "Epoch 18/30\n",
      "1719/1719 [==============================] - 5s 3ms/step - loss: 0.1685 - accuracy: 0.9392 - val_loss: 0.3133 - val_accuracy: 0.8860\n",
      "Epoch 19/30\n",
      "1719/1719 [==============================] - 5s 3ms/step - loss: 0.1653 - accuracy: 0.9402 - val_loss: 0.3085 - val_accuracy: 0.8936\n",
      "Epoch 20/30\n",
      "1719/1719 [==============================] - 5s 3ms/step - loss: 0.1623 - accuracy: 0.9417 - val_loss: 0.2889 - val_accuracy: 0.8970\n",
      "Epoch 21/30\n",
      "1719/1719 [==============================] - 5s 3ms/step - loss: 0.1608 - accuracy: 0.9430 - val_loss: 0.2934 - val_accuracy: 0.8974\n",
      "Epoch 22/30\n",
      "1719/1719 [==============================] - 5s 3ms/step - loss: 0.1577 - accuracy: 0.9434 - val_loss: 0.2890 - val_accuracy: 0.8990\n",
      "Epoch 23/30\n",
      "1719/1719 [==============================] - 6s 3ms/step - loss: 0.1554 - accuracy: 0.9445 - val_loss: 0.3132 - val_accuracy: 0.8922\n",
      "Epoch 24/30\n",
      "1719/1719 [==============================] - 5s 3ms/step - loss: 0.1530 - accuracy: 0.9453 - val_loss: 0.2964 - val_accuracy: 0.8992\n",
      "Epoch 25/30\n",
      "1719/1719 [==============================] - 5s 3ms/step - loss: 0.1501 - accuracy: 0.9464 - val_loss: 0.3092 - val_accuracy: 0.8928\n",
      "Epoch 26/30\n",
      "1719/1719 [==============================] - 5s 3ms/step - loss: 0.1470 - accuracy: 0.9478 - val_loss: 0.2942 - val_accuracy: 0.8962\n",
      "Epoch 27/30\n",
      "1719/1719 [==============================] - 5s 3ms/step - loss: 0.1453 - accuracy: 0.9483 - val_loss: 0.3066 - val_accuracy: 0.8912\n",
      "Epoch 28/30\n",
      "1719/1719 [==============================] - 5s 3ms/step - loss: 0.1422 - accuracy: 0.9495 - val_loss: 0.3052 - val_accuracy: 0.8922\n",
      "Epoch 29/30\n",
      "1719/1719 [==============================] - 5s 3ms/step - loss: 0.1412 - accuracy: 0.9502 - val_loss: 0.3002 - val_accuracy: 0.9006\n",
      "Epoch 30/30\n",
      "1719/1719 [==============================] - 5s 3ms/step - loss: 0.1398 - accuracy: 0.9505 - val_loss: 0.3136 - val_accuracy: 0.8970\n"
     ]
    }
   ],
   "source": [
    "history = model.fit(X_train, y_train, epochs=30, validation_data=(X_valid, y_valid))"
   ]
  },
  {
   "cell_type": "markdown",
   "metadata": {},
   "source": [
    "You can see:\n",
    "    1. that the training  loss went down, which is a good sign\n",
    "    2. and the validation accuracy is, 0.8952, after 50 epochs, not too far from the training accuracy, so there doesn't seem to be much overfitting going on"
   ]
  },
  {
   "cell_type": "markdown",
   "metadata": {},
   "source": [
    "if the training set way very skewed:\n",
    "    1. with some classes being overrepresented and others underrepresented,\n",
    "    2. it would be useful to set the, class_weight, argument when calling the, fit(). method.\n",
    "    3. giving a larger weight to underrepresented classes and a lower wight to overrepresented classes.\n",
    "    4. These weights would be used by keras when computing the, loss.\n",
    "    "
   ]
  },
  {
   "cell_type": "markdown",
   "metadata": {},
   "source": [
    "If you need:\n",
    "    1. pre-instance weights, instead, you can set the, sample_weight argument(it supersedes, class_weight)\n",
    "    2. This could be useful for example if some instances were labeled by experts while others were labeled using a crowdsourcing platform:\n",
    "        1. you might want to give more weight to the former.\n",
    "        2. yoy can also provide sample weights(but not class weights), for the validation set by adding them as a third item inn the validation_data, tuplem"
   ]
  },
  {
   "cell_type": "code",
   "execution_count": 25,
   "metadata": {},
   "outputs": [
    {
     "data": {
      "text/plain": [
       "{'verbose': 1, 'epochs': 30, 'steps': 1719}"
      ]
     },
     "execution_count": 25,
     "metadata": {},
     "output_type": "execute_result"
    }
   ],
   "source": [
    "history.params"
   ]
  },
  {
   "cell_type": "markdown",
   "metadata": {},
   "source": [
    "the fit(), method:\n",
    "    1.returns a Histroy, object containing the training parameters(history.params)\n",
    "    2. the list of, epochs it went through(history.epoch)\n",
    "    3. and the most importantly a dictionary(history.history), containing the loss and extra metrics ti measured at the end of each epoch on the training set and on the validation set`"
   ]
  },
  {
   "cell_type": "code",
   "execution_count": 26,
   "metadata": {},
   "outputs": [
    {
     "data": {
      "text/plain": [
       "{'loss': [0.22189372777938843,\n",
       "  0.21888545155525208,\n",
       "  0.21473631262779236,\n",
       "  0.2103496938943863,\n",
       "  0.2072809338569641,\n",
       "  0.20382043719291687,\n",
       "  0.20020060241222382,\n",
       "  0.1987149715423584,\n",
       "  0.19488190114498138,\n",
       "  0.19037964940071106,\n",
       "  0.18856659531593323,\n",
       "  0.18518243730068207,\n",
       "  0.18229472637176514,\n",
       "  0.17966434359550476,\n",
       "  0.17639203369617462,\n",
       "  0.17401063442230225,\n",
       "  0.17131240665912628,\n",
       "  0.1684844046831131,\n",
       "  0.16532902419567108,\n",
       "  0.16234396398067474,\n",
       "  0.1608302742242813,\n",
       "  0.15766488015651703,\n",
       "  0.1554463654756546,\n",
       "  0.15301232039928436,\n",
       "  0.15006396174430847,\n",
       "  0.14703308045864105,\n",
       "  0.14527639746665955,\n",
       "  0.14224383234977722,\n",
       "  0.14121082425117493,\n",
       "  0.13975737988948822],\n",
       " 'accuracy': [0.9197999835014343,\n",
       "  0.920236349105835,\n",
       "  0.921854555606842,\n",
       "  0.9238545298576355,\n",
       "  0.9240545630455017,\n",
       "  0.9262909293174744,\n",
       "  0.927545428276062,\n",
       "  0.9276182055473328,\n",
       "  0.9300909042358398,\n",
       "  0.9314000010490417,\n",
       "  0.9309090971946716,\n",
       "  0.9334545731544495,\n",
       "  0.9343090653419495,\n",
       "  0.9346181750297546,\n",
       "  0.93707275390625,\n",
       "  0.9380000233650208,\n",
       "  0.9378727078437805,\n",
       "  0.9392363429069519,\n",
       "  0.9401817917823792,\n",
       "  0.9416909217834473,\n",
       "  0.9429636597633362,\n",
       "  0.9434182047843933,\n",
       "  0.944490909576416,\n",
       "  0.9452545642852783,\n",
       "  0.946363627910614,\n",
       "  0.9477999806404114,\n",
       "  0.948272705078125,\n",
       "  0.9494909048080444,\n",
       "  0.9502363801002502,\n",
       "  0.9505272507667542],\n",
       " 'val_loss': [0.29380276799201965,\n",
       "  0.2862911522388458,\n",
       "  0.29039266705513,\n",
       "  0.30686360597610474,\n",
       "  0.289485901594162,\n",
       "  0.29091110825538635,\n",
       "  0.2902126610279083,\n",
       "  0.2931922674179077,\n",
       "  0.3060019612312317,\n",
       "  0.29957935214042664,\n",
       "  0.2885710597038269,\n",
       "  0.2854692339897156,\n",
       "  0.3057476580142975,\n",
       "  0.29980868101119995,\n",
       "  0.30704984068870544,\n",
       "  0.3017876148223877,\n",
       "  0.30176547169685364,\n",
       "  0.3133058249950409,\n",
       "  0.3085409700870514,\n",
       "  0.2888545095920563,\n",
       "  0.2934206426143646,\n",
       "  0.28897419571876526,\n",
       "  0.31321993470191956,\n",
       "  0.2963515520095825,\n",
       "  0.30917784571647644,\n",
       "  0.29418694972991943,\n",
       "  0.30662423372268677,\n",
       "  0.3052118718624115,\n",
       "  0.3001924455165863,\n",
       "  0.3135942220687866],\n",
       " 'val_accuracy': [0.8966000080108643,\n",
       "  0.895799994468689,\n",
       "  0.896399974822998,\n",
       "  0.8895999789237976,\n",
       "  0.8934000134468079,\n",
       "  0.8948000073432922,\n",
       "  0.8956000208854675,\n",
       "  0.8948000073432922,\n",
       "  0.890999972820282,\n",
       "  0.8924000263214111,\n",
       "  0.8949999809265137,\n",
       "  0.8971999883651733,\n",
       "  0.8925999999046326,\n",
       "  0.8920000195503235,\n",
       "  0.8880000114440918,\n",
       "  0.8948000073432922,\n",
       "  0.8970000147819519,\n",
       "  0.8859999775886536,\n",
       "  0.8935999870300293,\n",
       "  0.8970000147819519,\n",
       "  0.8974000215530396,\n",
       "  0.8989999890327454,\n",
       "  0.8921999931335449,\n",
       "  0.8992000222206116,\n",
       "  0.892799973487854,\n",
       "  0.8962000012397766,\n",
       "  0.8912000060081482,\n",
       "  0.8921999931335449,\n",
       "  0.900600016117096,\n",
       "  0.8970000147819519]}"
      ]
     },
     "execution_count": 26,
     "metadata": {},
     "output_type": "execute_result"
    }
   ],
   "source": [
    "history.history"
   ]
  },
  {
   "cell_type": "markdown",
   "metadata": {},
   "source": [
    "# Learing Curves"
   ]
  },
  {
   "cell_type": "code",
   "execution_count": 27,
   "metadata": {},
   "outputs": [],
   "source": [
    "import pandas as pd\n",
    "import matplotlib.pyplot as plt"
   ]
  },
  {
   "cell_type": "code",
   "execution_count": 28,
   "metadata": {},
   "outputs": [
    {
     "data": {
      "image/png": "[encoded data removed]",
      "text/plain": [
       "<Figure size 576x360 with 1 Axes>"
      ]
     },
     "metadata": {
      "needs_background": "light"
     },
     "output_type": "display_data"
    }
   ],
   "source": [
    "pd.DataFrame(history.history).plot(figsize=(8, 5))\n",
    "plt.grid(True)\n",
    "plt.gca().set_ylim(0, 1)# Set the vertival range to [0-1]\n",
    "plt.show()"
   ]
  },
  {
   "cell_type": "markdown",
   "metadata": {},
   "source": [
    "You can see:\n",
    "    1. The validation curves are quite close to the training curves, which means that there is not too much overfitting."
   ]
  },
  {
   "cell_type": "markdown",
   "metadata": {},
   "source": [
    "If you are not satisfied with the performance of your model:\n",
    "    1. you should go back and tune the model's hyperparameters\n",
    "    2. for example, the number of layers\n",
    "    3. the number of neurons per layer\n",
    "    4. the types of activation functions we use for each hidden layer.\n",
    "    5. the number of training ebochs\n",
    "    6. the batch size( it can be set in the fit() method using the batch-size, argument. which default to 32)"
   ]
  },
  {
   "cell_type": "markdown",
   "metadata": {},
   "source": [
    "Once You are satisfied with your model's validationn accuracy:\n",
    "    1. you should evaluate it on the test set to estimate the generalization error before you deploy the model to production.\n",
    "    w. you can easily do this using the, evaluate(), method(it's supports several othe arguments, such as batch_size, or sample wieght, )"
   ]
  },
  {
   "cell_type": "code",
   "execution_count": 29,
   "metadata": {},
   "outputs": [
    {
     "name": "stdout",
     "output_type": "stream",
     "text": [
      "313/313 [==============================] - 1s 3ms/step - loss: 68.3327 - accuracy: 0.8603\n"
     ]
    },
    {
     "data": {
      "text/plain": [
       "[68.33267974853516, 0.8603000044822693]"
      ]
     },
     "execution_count": 29,
     "metadata": {},
     "output_type": "execute_result"
    }
   ],
   "source": [
    "model.evaluate(X_test, y_test)"
   ]
  },
  {
   "cell_type": "markdown",
   "metadata": {},
   "source": [
    "As we saw in CH2:\n",
    "    1. it's common to get slightly lower performance on the test set than the valiation set.\n",
    "    2. because the hyperparameters are tunes on the validation set, not the test set."
   ]
  },
  {
   "cell_type": "markdown",
   "metadata": {},
   "source": [
    "# Using the Model to Make Prediction"
   ]
  },
  {
   "cell_type": "code",
   "execution_count": 30,
   "metadata": {},
   "outputs": [
    {
     "data": {
      "text/plain": [
       "array([[0., 0., 0., 0., 0., 0., 0., 0., 0., 1.],\n",
       "       [0., 0., 1., 0., 0., 0., 0., 0., 0., 0.],\n",
       "       [0., 1., 0., 0., 0., 0., 0., 0., 0., 0.]], dtype=float32)"
      ]
     },
     "execution_count": 30,
     "metadata": {},
     "output_type": "execute_result"
    }
   ],
   "source": [
    "X_new = X_test[:3]\n",
    "y_proba = model.predict(X_new)\n",
    "y_proba.round(2)"
   ]
  },
  {
   "cell_type": "markdown",
   "metadata": {},
   "source": [
    "If you only care about:\n",
    "    1. the class, with the highest estimation probability.\n",
    "    2. even if that probability is quite low\n",
    "    3. then you can use teh predict_classes(), method instead."
   ]
  },
  {
   "cell_type": "code",
   "execution_count": 60,
   "metadata": {},
   "outputs": [
    {
     "name": "stderr",
     "output_type": "stream",
     "text": [
      "C:\\Users\\taimo\\AppData\\Local\\Continuum\\anaconda3\\lib\\site-packages\\tensorflow\\python\\keras\\engine\\sequential.py:455: UserWarning: `model.predict_classes()` is deprecated and will be removed after 2021-01-01. Please use instead:* `np.argmax(model.predict(x), axis=-1)`,   if your model does multi-class classification   (e.g. if it uses a `softmax` last-layer activation).* `(model.predict(x) > 0.5).astype(\"int32\")`,   if your model does binary classification   (e.g. if it uses a `sigmoid` last-layer activation).\n",
      "  warnings.warn('`model.predict_classes()` is deprecated and '\n"
     ]
    },
    {
     "data": {
      "text/plain": [
       "array([6, 6, 6], dtype=int64)"
      ]
     },
     "execution_count": 60,
     "metadata": {},
     "output_type": "execute_result"
    }
   ],
   "source": [
    "y_pred = model.predict_classes(X_new)\n",
    "y_pred"
   ]
  },
  {
   "cell_type": "code",
   "execution_count": 61,
   "metadata": {},
   "outputs": [],
   "source": [
    "import numpy as np"
   ]
  },
  {
   "cell_type": "code",
   "execution_count": 62,
   "metadata": {},
   "outputs": [
    {
     "data": {
      "text/plain": [
       "array(['Shirt', 'Shirt', 'Shirt'], dtype='<U11')"
      ]
     },
     "execution_count": 62,
     "metadata": {},
     "output_type": "execute_result"
    }
   ],
   "source": [
    "np.array(class_names)[y_pred]"
   ]
  },
  {
   "cell_type": "code",
   "execution_count": 63,
   "metadata": {},
   "outputs": [],
   "source": [
    "model.save('my_keras_model.h5')"
   ]
  },
  {
   "cell_type": "markdown",
   "metadata": {},
   "source": [
    "## Callbacks"
   ]
  },
  {
   "cell_type": "markdown",
   "metadata": {},
   "source": [
    "but also save checkpoints at regular intervals during training by default at the end of each epoch\n",
    "    <br>\n",
    "this way you don't need to worry about training for too long and overfitting the training set    "
   ]
  },
  {
   "cell_type": "code",
   "execution_count": 64,
   "metadata": {},
   "outputs": [],
   "source": [
    "model = keras.models.load_model('2. Building an Image Classifier Using the Sequential API.h5')"
   ]
  },
  {
   "cell_type": "code",
   "execution_count": 67,
   "metadata": {},
   "outputs": [
    {
     "name": "stdout",
     "output_type": "stream",
     "text": [
      "Epoch 1/100\n",
      "157/157 [==============================] - 1s 6ms/step - loss: 2.3084 - accuracy: 0.1026 - val_loss: 2.2791 - val_accuracy: 0.0999\n",
      "Epoch 2/100\n",
      "157/157 [==============================] - 1s 5ms/step - loss: 2.3105 - accuracy: 0.1030 - val_loss: 2.2382 - val_accuracy: 0.2331\n",
      "Epoch 3/100\n",
      "157/157 [==============================] - 1s 5ms/step - loss: 2.3092 - accuracy: 0.1036 - val_loss: 2.2500 - val_accuracy: 0.1004\n",
      "Epoch 4/100\n",
      "157/157 [==============================] - 1s 5ms/step - loss: 2.3106 - accuracy: 0.0960 - val_loss: 2.2420 - val_accuracy: 0.2917\n",
      "Epoch 5/100\n",
      "157/157 [==============================] - 1s 5ms/step - loss: 2.3105 - accuracy: 0.0900 - val_loss: 2.2420 - val_accuracy: 0.2296\n",
      "Epoch 6/100\n",
      "157/157 [==============================] - 1s 6ms/step - loss: 2.3089 - accuracy: 0.0970 - val_loss: 2.2473 - val_accuracy: 0.1030\n",
      "Epoch 7/100\n",
      "157/157 [==============================] - 1s 6ms/step - loss: 2.3108 - accuracy: 0.1008 - val_loss: 2.2437 - val_accuracy: 0.3471\n",
      "Epoch 8/100\n",
      "157/157 [==============================] - 1s 5ms/step - loss: 2.3097 - accuracy: 0.0934 - val_loss: 2.2380 - val_accuracy: 0.1983\n",
      "Epoch 9/100\n",
      "157/157 [==============================] - 1s 5ms/step - loss: 2.3113 - accuracy: 0.0912 - val_loss: 2.2508 - val_accuracy: 0.2581\n",
      "Epoch 10/100\n",
      "157/157 [==============================] - 1s 5ms/step - loss: 2.3104 - accuracy: 0.0984 - val_loss: 2.2593 - val_accuracy: 0.0999\n",
      "Epoch 11/100\n",
      "157/157 [==============================] - 1s 5ms/step - loss: 2.3091 - accuracy: 0.1034 - val_loss: 2.2467 - val_accuracy: 0.1210\n",
      "Epoch 12/100\n",
      "157/157 [==============================] - 1s 5ms/step - loss: 2.3094 - accuracy: 0.1000 - val_loss: 2.2483 - val_accuracy: 0.1011\n",
      "Epoch 13/100\n",
      "157/157 [==============================] - 1s 5ms/step - loss: 2.3112 - accuracy: 0.0980 - val_loss: 2.2488 - val_accuracy: 0.2270\n",
      "Epoch 14/100\n",
      "157/157 [==============================] - 1s 5ms/step - loss: 2.3073 - accuracy: 0.1038 - val_loss: 2.2531 - val_accuracy: 0.0999\n",
      "Epoch 15/100\n",
      "157/157 [==============================] - 1s 5ms/step - loss: 2.3103 - accuracy: 0.0996 - val_loss: 2.2476 - val_accuracy: 0.0989\n",
      "Epoch 16/100\n",
      "157/157 [==============================] - 1s 5ms/step - loss: 2.3095 - accuracy: 0.0994 - val_loss: 2.2396 - val_accuracy: 0.1531\n",
      "Epoch 17/100\n",
      "157/157 [==============================] - 1s 5ms/step - loss: 2.3108 - accuracy: 0.0948 - val_loss: 2.2373 - val_accuracy: 0.2077\n",
      "Epoch 18/100\n",
      "157/157 [==============================] - 1s 5ms/step - loss: 2.3106 - accuracy: 0.0984 - val_loss: 2.2406 - val_accuracy: 0.1547\n",
      "Epoch 19/100\n",
      "157/157 [==============================] - 1s 5ms/step - loss: 2.3097 - accuracy: 0.0968 - val_loss: 2.2436 - val_accuracy: 0.2047\n",
      "Epoch 20/100\n",
      "157/157 [==============================] - 1s 5ms/step - loss: 2.3085 - accuracy: 0.1030 - val_loss: 2.2602 - val_accuracy: 0.2071\n",
      "Epoch 21/100\n",
      "157/157 [==============================] - 1s 5ms/step - loss: 2.3091 - accuracy: 0.1044 - val_loss: 2.2387 - val_accuracy: 0.1750\n",
      "Epoch 22/100\n",
      "157/157 [==============================] - 1s 5ms/step - loss: 2.3087 - accuracy: 0.0986 - val_loss: 2.2471 - val_accuracy: 0.1681\n",
      "Epoch 23/100\n",
      "157/157 [==============================] - 1s 5ms/step - loss: 2.3097 - accuracy: 0.1038 - val_loss: 2.2429 - val_accuracy: 0.2426\n",
      "Epoch 24/100\n",
      "157/157 [==============================] - 1s 5ms/step - loss: 2.3078 - accuracy: 0.1052 - val_loss: 2.2415 - val_accuracy: 0.3440\n",
      "Epoch 25/100\n",
      "157/157 [==============================] - 1s 5ms/step - loss: 2.3076 - accuracy: 0.1034 - val_loss: 2.2484 - val_accuracy: 0.1899\n",
      "Epoch 26/100\n",
      "157/157 [==============================] - 1s 5ms/step - loss: 2.3104 - accuracy: 0.1024 - val_loss: 2.2447 - val_accuracy: 0.2153\n",
      "Epoch 27/100\n",
      "157/157 [==============================] - 1s 5ms/step - loss: 2.3092 - accuracy: 0.0988 - val_loss: 2.2395 - val_accuracy: 0.2246\n",
      "Epoch 28/100\n",
      "157/157 [==============================] - 1s 5ms/step - loss: 2.3089 - accuracy: 0.0958 - val_loss: 2.2449 - val_accuracy: 0.2691\n",
      "Epoch 29/100\n",
      "157/157 [==============================] - 1s 5ms/step - loss: 2.3084 - accuracy: 0.0994 - val_loss: 2.2412 - val_accuracy: 0.1820\n",
      "Epoch 30/100\n",
      "157/157 [==============================] - 1s 5ms/step - loss: 2.3087 - accuracy: 0.0996 - val_loss: 2.2612 - val_accuracy: 0.0996\n",
      "Epoch 31/100\n",
      "157/157 [==============================] - 1s 5ms/step - loss: 2.3097 - accuracy: 0.1032 - val_loss: 2.2452 - val_accuracy: 0.2013\n",
      "Epoch 32/100\n",
      "157/157 [==============================] - 1s 5ms/step - loss: 2.3105 - accuracy: 0.0954 - val_loss: 2.2430 - val_accuracy: 0.1003\n",
      "Epoch 33/100\n",
      "157/157 [==============================] - 1s 5ms/step - loss: 2.3093 - accuracy: 0.0956 - val_loss: 2.2471 - val_accuracy: 0.2037\n",
      "Epoch 34/100\n",
      "157/157 [==============================] - 1s 5ms/step - loss: 2.3089 - accuracy: 0.0974 - val_loss: 2.2543 - val_accuracy: 0.1017\n",
      "Epoch 35/100\n",
      "157/157 [==============================] - 1s 5ms/step - loss: 2.3093 - accuracy: 0.0976 - val_loss: 2.2413 - val_accuracy: 0.2636\n",
      "Epoch 36/100\n",
      "157/157 [==============================] - 1s 5ms/step - loss: 2.3108 - accuracy: 0.1000 - val_loss: 2.2410 - val_accuracy: 0.2881\n",
      "Epoch 37/100\n",
      "157/157 [==============================] - 1s 5ms/step - loss: 2.3091 - accuracy: 0.0958 - val_loss: 2.2425 - val_accuracy: 0.1117\n",
      "Epoch 38/100\n",
      "157/157 [==============================] - 1s 5ms/step - loss: 2.3077 - accuracy: 0.1060 - val_loss: 2.2456 - val_accuracy: 0.1201\n",
      "Epoch 39/100\n",
      "157/157 [==============================] - 1s 5ms/step - loss: 2.3092 - accuracy: 0.0956 - val_loss: 2.2471 - val_accuracy: 0.0999\n",
      "Epoch 40/100\n",
      "157/157 [==============================] - 1s 5ms/step - loss: 2.3086 - accuracy: 0.1078 - val_loss: 2.2492 - val_accuracy: 0.2147\n",
      "Epoch 41/100\n",
      "157/157 [==============================] - 1s 5ms/step - loss: 2.3088 - accuracy: 0.0994 - val_loss: 2.2479 - val_accuracy: 0.2451\n",
      "Epoch 42/100\n",
      "157/157 [==============================] - 1s 5ms/step - loss: 2.3081 - accuracy: 0.1000 - val_loss: 2.2456 - val_accuracy: 0.2146\n",
      "Epoch 43/100\n",
      "157/157 [==============================] - 1s 5ms/step - loss: 2.3102 - accuracy: 0.0892 - val_loss: 2.2536 - val_accuracy: 0.0977\n",
      "Epoch 44/100\n",
      "157/157 [==============================] - 1s 5ms/step - loss: 2.3102 - accuracy: 0.0958 - val_loss: 2.2395 - val_accuracy: 0.4589\n",
      "Epoch 45/100\n",
      "157/157 [==============================] - 1s 5ms/step - loss: 2.3090 - accuracy: 0.0994 - val_loss: 2.2431 - val_accuracy: 0.1214\n",
      "Epoch 46/100\n",
      "157/157 [==============================] - 1s 5ms/step - loss: 2.3100 - accuracy: 0.0944 - val_loss: 2.2430 - val_accuracy: 0.2279\n",
      "Epoch 47/100\n",
      "157/157 [==============================] - 1s 5ms/step - loss: 2.3107 - accuracy: 0.0952 - val_loss: 2.2425 - val_accuracy: 0.1541\n",
      "Epoch 48/100\n",
      "157/157 [==============================] - 1s 5ms/step - loss: 2.3081 - accuracy: 0.1004 - val_loss: 2.2486 - val_accuracy: 0.3271\n",
      "Epoch 49/100\n",
      "157/157 [==============================] - 1s 5ms/step - loss: 2.3092 - accuracy: 0.0962 - val_loss: 2.2453 - val_accuracy: 0.2181\n",
      "Epoch 50/100\n",
      "157/157 [==============================] - 1s 6ms/step - loss: 2.3088 - accuracy: 0.0958 - val_loss: 2.2410 - val_accuracy: 0.1113\n",
      "Epoch 51/100\n",
      "157/157 [==============================] - 1s 5ms/step - loss: 2.3092 - accuracy: 0.0994 - val_loss: 2.2529 - val_accuracy: 0.2376\n",
      "Epoch 52/100\n",
      "157/157 [==============================] - 1s 5ms/step - loss: 2.3077 - accuracy: 0.1042 - val_loss: 2.2421 - val_accuracy: 0.1199\n",
      "Epoch 53/100\n",
      "157/157 [==============================] - 1s 5ms/step - loss: 2.3085 - accuracy: 0.0990 - val_loss: 2.2419 - val_accuracy: 0.3227\n",
      "Epoch 54/100\n",
      "157/157 [==============================] - 1s 5ms/step - loss: 2.3083 - accuracy: 0.1024 - val_loss: 2.2590 - val_accuracy: 0.0999\n",
      "Epoch 55/100\n",
      "157/157 [==============================] - 1s 5ms/step - loss: 2.3089 - accuracy: 0.0936 - val_loss: 2.2487 - val_accuracy: 0.1443\n",
      "Epoch 56/100\n",
      "157/157 [==============================] - 1s 5ms/step - loss: 2.3082 - accuracy: 0.1012 - val_loss: 2.2466 - val_accuracy: 0.1640\n",
      "Epoch 57/100\n",
      "157/157 [==============================] - 1s 5ms/step - loss: 2.3101 - accuracy: 0.0900 - val_loss: 2.2520 - val_accuracy: 0.2247\n"
     ]
    },
    {
     "name": "stdout",
     "output_type": "stream",
     "text": [
      "Epoch 58/100\n",
      "157/157 [==============================] - 1s 5ms/step - loss: 2.3090 - accuracy: 0.0908 - val_loss: 2.2396 - val_accuracy: 0.3080\n",
      "Epoch 59/100\n",
      "157/157 [==============================] - 1s 5ms/step - loss: 2.3098 - accuracy: 0.0990 - val_loss: 2.2422 - val_accuracy: 0.2906\n",
      "Epoch 60/100\n",
      "157/157 [==============================] - 1s 5ms/step - loss: 2.3081 - accuracy: 0.1054 - val_loss: 2.2439 - val_accuracy: 0.2111\n",
      "Epoch 61/100\n",
      "157/157 [==============================] - 1s 5ms/step - loss: 2.3059 - accuracy: 0.1096 - val_loss: 2.2481 - val_accuracy: 0.1319\n",
      "Epoch 62/100\n",
      "157/157 [==============================] - 1s 5ms/step - loss: 2.3095 - accuracy: 0.0982 - val_loss: 2.2412 - val_accuracy: 0.3024\n",
      "Epoch 63/100\n",
      "157/157 [==============================] - 1s 5ms/step - loss: 2.3076 - accuracy: 0.1016 - val_loss: 2.2417 - val_accuracy: 0.1887\n",
      "Epoch 64/100\n",
      "157/157 [==============================] - 1s 5ms/step - loss: 2.3082 - accuracy: 0.1000 - val_loss: 2.2447 - val_accuracy: 0.1374\n",
      "Epoch 65/100\n",
      "157/157 [==============================] - 1s 5ms/step - loss: 2.3089 - accuracy: 0.0932 - val_loss: 2.2485 - val_accuracy: 0.2810\n",
      "Epoch 66/100\n",
      "157/157 [==============================] - 1s 5ms/step - loss: 2.3086 - accuracy: 0.1012 - val_loss: 2.2394 - val_accuracy: 0.4500\n",
      "Epoch 67/100\n",
      "157/157 [==============================] - 1s 5ms/step - loss: 2.3081 - accuracy: 0.0966 - val_loss: 2.2480 - val_accuracy: 0.2579\n",
      "Epoch 68/100\n",
      "157/157 [==============================] - 1s 5ms/step - loss: 2.3091 - accuracy: 0.0962 - val_loss: 2.2459 - val_accuracy: 0.2904\n",
      "Epoch 69/100\n",
      "157/157 [==============================] - 1s 5ms/step - loss: 2.3083 - accuracy: 0.1076 - val_loss: 2.2658 - val_accuracy: 0.1006\n",
      "Epoch 70/100\n",
      "157/157 [==============================] - 1s 6ms/step - loss: 2.3101 - accuracy: 0.0968 - val_loss: 2.2458 - val_accuracy: 0.1437\n",
      "Epoch 71/100\n",
      "157/157 [==============================] - 1s 6ms/step - loss: 2.3089 - accuracy: 0.0956 - val_loss: 2.2488 - val_accuracy: 0.0974\n",
      "Epoch 72/100\n",
      "157/157 [==============================] - 1s 6ms/step - loss: 2.3076 - accuracy: 0.0990 - val_loss: 2.2440 - val_accuracy: 0.1116\n",
      "Epoch 73/100\n",
      "157/157 [==============================] - 1s 6ms/step - loss: 2.3091 - accuracy: 0.0982 - val_loss: 2.2485 - val_accuracy: 0.1746\n",
      "Epoch 74/100\n",
      "157/157 [==============================] - 1s 5ms/step - loss: 2.3088 - accuracy: 0.0962 - val_loss: 2.2416 - val_accuracy: 0.3161\n",
      "Epoch 75/100\n",
      "157/157 [==============================] - 1s 6ms/step - loss: 2.3083 - accuracy: 0.1004 - val_loss: 2.2501 - val_accuracy: 0.0974\n",
      "Epoch 76/100\n",
      "157/157 [==============================] - 1s 6ms/step - loss: 2.3086 - accuracy: 0.1040 - val_loss: 2.2531 - val_accuracy: 0.2716\n",
      "Epoch 77/100\n",
      "157/157 [==============================] - 1s 7ms/step - loss: 2.3085 - accuracy: 0.1014 - val_loss: 2.2437 - val_accuracy: 0.2080\n",
      "Epoch 78/100\n",
      "157/157 [==============================] - 1s 6ms/step - loss: 2.3082 - accuracy: 0.1020 - val_loss: 2.2439 - val_accuracy: 0.3089\n",
      "Epoch 79/100\n",
      "157/157 [==============================] - 1s 6ms/step - loss: 2.3090 - accuracy: 0.1016 - val_loss: 2.2518 - val_accuracy: 0.1193\n",
      "Epoch 80/100\n",
      "157/157 [==============================] - 1s 7ms/step - loss: 2.3078 - accuracy: 0.0980 - val_loss: 2.2455 - val_accuracy: 0.2650\n",
      "Epoch 81/100\n",
      "157/157 [==============================] - 1s 5ms/step - loss: 2.3080 - accuracy: 0.0960 - val_loss: 2.2532 - val_accuracy: 0.0999\n",
      "Epoch 82/100\n",
      "157/157 [==============================] - 1s 5ms/step - loss: 2.3081 - accuracy: 0.1018 - val_loss: 2.2454 - val_accuracy: 0.1089\n",
      "Epoch 83/100\n",
      "157/157 [==============================] - 1s 5ms/step - loss: 2.3091 - accuracy: 0.1014 - val_loss: 2.2469 - val_accuracy: 0.1451\n",
      "Epoch 84/100\n",
      "157/157 [==============================] - 1s 6ms/step - loss: 2.3088 - accuracy: 0.0980 - val_loss: 2.2419 - val_accuracy: 0.2340\n",
      "Epoch 85/100\n",
      "157/157 [==============================] - 1s 5ms/step - loss: 2.3084 - accuracy: 0.0988 - val_loss: 2.2418 - val_accuracy: 0.2131\n",
      "Epoch 86/100\n",
      "157/157 [==============================] - 1s 5ms/step - loss: 2.3086 - accuracy: 0.0960 - val_loss: 2.2482 - val_accuracy: 0.0990\n",
      "Epoch 87/100\n",
      "157/157 [==============================] - 1s 6ms/step - loss: 2.3071 - accuracy: 0.1086 - val_loss: 2.2424 - val_accuracy: 0.2003\n",
      "Epoch 88/100\n",
      "157/157 [==============================] - 1s 5ms/step - loss: 2.3080 - accuracy: 0.0992 - val_loss: 2.2546 - val_accuracy: 0.1393\n",
      "Epoch 89/100\n",
      "157/157 [==============================] - 1s 5ms/step - loss: 2.3070 - accuracy: 0.1082 - val_loss: 2.2446 - val_accuracy: 0.0999\n",
      "Epoch 90/100\n",
      "157/157 [==============================] - 1s 6ms/step - loss: 2.3095 - accuracy: 0.0924 - val_loss: 2.2495 - val_accuracy: 0.1003\n",
      "Epoch 91/100\n",
      "157/157 [==============================] - 1s 6ms/step - loss: 2.3083 - accuracy: 0.0994 - val_loss: 2.2418 - val_accuracy: 0.3311\n",
      "Epoch 92/100\n",
      "157/157 [==============================] - 1s 5ms/step - loss: 2.3090 - accuracy: 0.0936 - val_loss: 2.2450 - val_accuracy: 0.3041\n",
      "Epoch 93/100\n",
      "157/157 [==============================] - 1s 5ms/step - loss: 2.3088 - accuracy: 0.0958 - val_loss: 2.2462 - val_accuracy: 0.1223\n",
      "Epoch 94/100\n",
      "157/157 [==============================] - 1s 6ms/step - loss: 2.3085 - accuracy: 0.1018 - val_loss: 2.2471 - val_accuracy: 0.1844\n",
      "Epoch 95/100\n",
      "157/157 [==============================] - 1s 6ms/step - loss: 2.3087 - accuracy: 0.0942 - val_loss: 2.2441 - val_accuracy: 0.2250\n",
      "Epoch 96/100\n",
      "157/157 [==============================] - 1s 5ms/step - loss: 2.3076 - accuracy: 0.0988 - val_loss: 2.2399 - val_accuracy: 0.4617\n",
      "Epoch 97/100\n",
      "157/157 [==============================] - 1s 5ms/step - loss: 2.3078 - accuracy: 0.1046 - val_loss: 2.2465 - val_accuracy: 0.1683\n",
      "Epoch 98/100\n",
      "157/157 [==============================] - 1s 5ms/step - loss: 2.3075 - accuracy: 0.0988 - val_loss: 2.2427 - val_accuracy: 0.1840\n",
      "Epoch 99/100\n",
      "157/157 [==============================] - 1s 6ms/step - loss: 2.3088 - accuracy: 0.0936 - val_loss: 2.2405 - val_accuracy: 0.2350\n",
      "Epoch 100/100\n",
      "157/157 [==============================] - 1s 6ms/step - loss: 2.3088 - accuracy: 0.0972 - val_loss: 2.2476 - val_accuracy: 0.1770\n"
     ]
    }
   ],
   "source": [
    "checkpoint_cb = keras.callbacks.ModelCheckpoint(\"2. Building an Image Classifier Using the Sequential API.h5\", save_best_only=True, patience=10)\n",
    "history = model.fit(X_train, y_train, epochs=100, validation_data=(X_valid, y_valid), callbacks=[checkpoint_cb])\n",
    "model = keras.models.load_model('2. Building an Image Classifier Using the Sequential API.h5',)"
   ]
  },
  {
   "cell_type": "markdown",
   "metadata": {},
   "source": [
    "## Fune Tuning NN"
   ]
  },
  {
   "cell_type": "code",
   "execution_count": 68,
   "metadata": {},
   "outputs": [],
   "source": [
    "from scipy import reciprocal\n",
    "from sklearn.model_selection import RandomizedSearchCV\n",
    "import numpy as np"
   ]
  },
  {
   "cell_type": "code",
   "execution_count": 75,
   "metadata": {},
   "outputs": [
    {
     "name": "stdout",
     "output_type": "stream",
     "text": [
      "Epoch 1/100\n",
      "157/157 [==============================] - 1s 6ms/step - loss: 2.3094 - accuracy: 0.1000 - val_loss: 2.2428 - val_accuracy: 0.1771\n",
      "Epoch 2/100\n",
      "157/157 [==============================] - 1s 5ms/step - loss: 2.3093 - accuracy: 0.1006 - val_loss: 2.2423 - val_accuracy: 0.2833\n",
      "Epoch 3/100\n",
      "157/157 [==============================] - 1s 5ms/step - loss: 2.3082 - accuracy: 0.0960 - val_loss: 2.2454 - val_accuracy: 0.0990\n",
      "Epoch 4/100\n",
      "157/157 [==============================] - 1s 5ms/step - loss: 2.3101 - accuracy: 0.0970 - val_loss: 2.2503 - val_accuracy: 0.1026\n",
      "Epoch 5/100\n",
      "157/157 [==============================] - 1s 5ms/step - loss: 2.3102 - accuracy: 0.1000 - val_loss: 2.2635 - val_accuracy: 0.1004\n",
      "Epoch 6/100\n",
      "157/157 [==============================] - 1s 5ms/step - loss: 2.3092 - accuracy: 0.1074 - val_loss: 2.2519 - val_accuracy: 0.0999\n",
      "Epoch 7/100\n",
      "157/157 [==============================] - 1s 5ms/step - loss: 2.3094 - accuracy: 0.0972 - val_loss: 2.2467 - val_accuracy: 0.2034\n",
      "Epoch 8/100\n",
      "157/157 [==============================] - 1s 5ms/step - loss: 2.3105 - accuracy: 0.0986 - val_loss: 2.2572 - val_accuracy: 0.1011\n",
      "Epoch 9/100\n",
      "157/157 [==============================] - 1s 5ms/step - loss: 2.3098 - accuracy: 0.1010 - val_loss: 2.2507 - val_accuracy: 0.2786\n",
      "Epoch 10/100\n",
      "157/157 [==============================] - 1s 5ms/step - loss: 2.3088 - accuracy: 0.0992 - val_loss: 2.2418 - val_accuracy: 0.3067\n",
      "Epoch 11/100\n",
      "157/157 [==============================] - 1s 5ms/step - loss: 2.3085 - accuracy: 0.0970 - val_loss: 2.2510 - val_accuracy: 0.2451\n",
      "Epoch 12/100\n",
      "157/157 [==============================] - 1s 5ms/step - loss: 2.3087 - accuracy: 0.1030 - val_loss: 2.2616 - val_accuracy: 0.1026\n",
      "Epoch 13/100\n",
      "157/157 [==============================] - 1s 5ms/step - loss: 2.3102 - accuracy: 0.1000 - val_loss: 2.2526 - val_accuracy: 0.2844\n",
      "Epoch 14/100\n",
      "157/157 [==============================] - 1s 5ms/step - loss: 2.3102 - accuracy: 0.1024 - val_loss: 2.2411 - val_accuracy: 0.4190\n",
      "Epoch 15/100\n",
      "157/157 [==============================] - 1s 5ms/step - loss: 2.3099 - accuracy: 0.0976 - val_loss: 2.2398 - val_accuracy: 0.4296\n",
      "Epoch 16/100\n",
      "157/157 [==============================] - 1s 5ms/step - loss: 2.3099 - accuracy: 0.0994 - val_loss: 2.2452 - val_accuracy: 0.1876\n",
      "Epoch 17/100\n",
      "157/157 [==============================] - 1s 5ms/step - loss: 2.3103 - accuracy: 0.0986 - val_loss: 2.2419 - val_accuracy: 0.1884\n",
      "Epoch 18/100\n",
      "157/157 [==============================] - 1s 5ms/step - loss: 2.3091 - accuracy: 0.0966 - val_loss: 2.2436 - val_accuracy: 0.1071\n",
      "Epoch 19/100\n",
      "157/157 [==============================] - 1s 5ms/step - loss: 2.3090 - accuracy: 0.1048 - val_loss: 2.2397 - val_accuracy: 0.2367\n",
      "Epoch 20/100\n",
      "157/157 [==============================] - 1s 5ms/step - loss: 2.3100 - accuracy: 0.0998 - val_loss: 2.2415 - val_accuracy: 0.4206\n",
      "Epoch 21/100\n",
      "157/157 [==============================] - 1s 5ms/step - loss: 2.3099 - accuracy: 0.1034 - val_loss: 2.2432 - val_accuracy: 0.0984\n",
      "Epoch 22/100\n",
      "157/157 [==============================] - 1s 5ms/step - loss: 2.3074 - accuracy: 0.1078 - val_loss: 2.2538 - val_accuracy: 0.2154\n",
      "Epoch 23/100\n",
      "157/157 [==============================] - 1s 5ms/step - loss: 2.3102 - accuracy: 0.0970 - val_loss: 2.2387 - val_accuracy: 0.2673\n",
      "Epoch 24/100\n",
      "157/157 [==============================] - 1s 5ms/step - loss: 2.3092 - accuracy: 0.0972 - val_loss: 2.2411 - val_accuracy: 0.1177\n",
      "Epoch 25/100\n",
      "157/157 [==============================] - 1s 5ms/step - loss: 2.3089 - accuracy: 0.1032 - val_loss: 2.2523 - val_accuracy: 0.2171\n",
      "Epoch 26/100\n",
      "157/157 [==============================] - 1s 5ms/step - loss: 2.3091 - accuracy: 0.0962 - val_loss: 2.2601 - val_accuracy: 0.0999\n",
      "Epoch 27/100\n",
      "157/157 [==============================] - 1s 5ms/step - loss: 2.3082 - accuracy: 0.1002 - val_loss: 2.2422 - val_accuracy: 0.1933\n",
      "Epoch 28/100\n",
      "157/157 [==============================] - 1s 5ms/step - loss: 2.3071 - accuracy: 0.1036 - val_loss: 2.2499 - val_accuracy: 0.1014\n",
      "Epoch 29/100\n",
      "157/157 [==============================] - 1s 5ms/step - loss: 2.3093 - accuracy: 0.0990 - val_loss: 2.2442 - val_accuracy: 0.0999\n",
      "Epoch 30/100\n",
      "157/157 [==============================] - 1s 5ms/step - loss: 2.3094 - accuracy: 0.0996 - val_loss: 2.2423 - val_accuracy: 0.2447\n",
      "Epoch 31/100\n",
      "157/157 [==============================] - 1s 5ms/step - loss: 2.3098 - accuracy: 0.0920 - val_loss: 2.2444 - val_accuracy: 0.1423\n",
      "Epoch 32/100\n",
      "157/157 [==============================] - 1s 5ms/step - loss: 2.3094 - accuracy: 0.0980 - val_loss: 2.2490 - val_accuracy: 0.1070\n",
      "Epoch 33/100\n",
      "157/157 [==============================] - 1s 6ms/step - loss: 2.3085 - accuracy: 0.1044 - val_loss: 2.2440 - val_accuracy: 0.1014\n",
      "Epoch 34/100\n",
      "157/157 [==============================] - 1s 5ms/step - loss: 2.3102 - accuracy: 0.0950 - val_loss: 2.2508 - val_accuracy: 0.1810\n",
      "Epoch 35/100\n",
      "157/157 [==============================] - 1s 5ms/step - loss: 2.3096 - accuracy: 0.0934 - val_loss: 2.2410 - val_accuracy: 0.1874\n",
      "Epoch 36/100\n",
      "157/157 [==============================] - 1s 5ms/step - loss: 2.3090 - accuracy: 0.1052 - val_loss: 2.2420 - val_accuracy: 0.3437\n",
      "Epoch 37/100\n",
      "157/157 [==============================] - 1s 5ms/step - loss: 2.3082 - accuracy: 0.1006 - val_loss: 2.2616 - val_accuracy: 0.0999\n",
      "Epoch 38/100\n",
      "157/157 [==============================] - 1s 5ms/step - loss: 2.3106 - accuracy: 0.0938 - val_loss: 2.2394 - val_accuracy: 0.2653\n",
      "Epoch 39/100\n",
      "157/157 [==============================] - 1s 5ms/step - loss: 2.3092 - accuracy: 0.0956 - val_loss: 2.2468 - val_accuracy: 0.2599\n",
      "Epoch 40/100\n",
      "157/157 [==============================] - 1s 5ms/step - loss: 2.3094 - accuracy: 0.0990 - val_loss: 2.2470 - val_accuracy: 0.2803\n",
      "Epoch 41/100\n",
      "157/157 [==============================] - 1s 5ms/step - loss: 2.3096 - accuracy: 0.0964 - val_loss: 2.2566 - val_accuracy: 0.1254\n",
      "Epoch 42/100\n",
      "157/157 [==============================] - 1s 5ms/step - loss: 2.3097 - accuracy: 0.0936 - val_loss: 2.2442 - val_accuracy: 0.3174\n",
      "Epoch 43/100\n",
      "157/157 [==============================] - 1s 5ms/step - loss: 2.3086 - accuracy: 0.0936 - val_loss: 2.2409 - val_accuracy: 0.2596\n",
      "Epoch 44/100\n",
      "157/157 [==============================] - 1s 5ms/step - loss: 2.3094 - accuracy: 0.1006 - val_loss: 2.2582 - val_accuracy: 0.1296\n",
      "Epoch 45/100\n",
      "157/157 [==============================] - 1s 5ms/step - loss: 2.3098 - accuracy: 0.0980 - val_loss: 2.2473 - val_accuracy: 0.2011\n",
      "Epoch 46/100\n",
      "157/157 [==============================] - 1s 5ms/step - loss: 2.3066 - accuracy: 0.0998 - val_loss: 2.2482 - val_accuracy: 0.1920\n",
      "Epoch 47/100\n",
      "157/157 [==============================] - 1s 5ms/step - loss: 2.3085 - accuracy: 0.1002 - val_loss: 2.2444 - val_accuracy: 0.1031\n",
      "Epoch 48/100\n",
      "157/157 [==============================] - 1s 5ms/step - loss: 2.3088 - accuracy: 0.1012 - val_loss: 2.2394 - val_accuracy: 0.2947\n",
      "Epoch 49/100\n",
      "157/157 [==============================] - 1s 5ms/step - loss: 2.3088 - accuracy: 0.0926 - val_loss: 2.2690 - val_accuracy: 0.1907\n",
      "Epoch 50/100\n",
      "157/157 [==============================] - 1s 5ms/step - loss: 2.3085 - accuracy: 0.1022 - val_loss: 2.2430 - val_accuracy: 0.1737\n",
      "Epoch 51/100\n",
      "157/157 [==============================] - 1s 5ms/step - loss: 2.3094 - accuracy: 0.0984 - val_loss: 2.2447 - val_accuracy: 0.1520\n",
      "Epoch 52/100\n",
      "157/157 [==============================] - 1s 5ms/step - loss: 2.3091 - accuracy: 0.0972 - val_loss: 2.2423 - val_accuracy: 0.3844\n",
      "Epoch 53/100\n",
      "157/157 [==============================] - 1s 5ms/step - loss: 2.3098 - accuracy: 0.0882 - val_loss: 2.2489 - val_accuracy: 0.2119\n",
      "Epoch 54/100\n",
      "157/157 [==============================] - 1s 5ms/step - loss: 2.3092 - accuracy: 0.0974 - val_loss: 2.2439 - val_accuracy: 0.2023\n",
      "Epoch 55/100\n",
      "157/157 [==============================] - 1s 6ms/step - loss: 2.3087 - accuracy: 0.1006 - val_loss: 2.2428 - val_accuracy: 0.1714\n",
      "Epoch 56/100\n",
      "157/157 [==============================] - 1s 5ms/step - loss: 2.3078 - accuracy: 0.1052 - val_loss: 2.2490 - val_accuracy: 0.0999\n",
      "Epoch 57/100\n",
      "157/157 [==============================] - 1s 6ms/step - loss: 2.3079 - accuracy: 0.1016 - val_loss: 2.2524 - val_accuracy: 0.0999\n"
     ]
    },
    {
     "name": "stdout",
     "output_type": "stream",
     "text": [
      "Epoch 58/100\n",
      "157/157 [==============================] - 1s 5ms/step - loss: 2.3086 - accuracy: 0.1022 - val_loss: 2.2507 - val_accuracy: 0.3014\n",
      "Epoch 59/100\n",
      "157/157 [==============================] - 1s 5ms/step - loss: 2.3090 - accuracy: 0.0906 - val_loss: 2.2410 - val_accuracy: 0.2801\n",
      "Epoch 60/100\n",
      "157/157 [==============================] - 1s 5ms/step - loss: 2.3080 - accuracy: 0.1002 - val_loss: 2.2450 - val_accuracy: 0.1580\n",
      "Epoch 61/100\n",
      "157/157 [==============================] - 1s 5ms/step - loss: 2.3082 - accuracy: 0.0984 - val_loss: 2.2448 - val_accuracy: 0.1860\n",
      "Epoch 62/100\n",
      "157/157 [==============================] - 1s 5ms/step - loss: 2.3094 - accuracy: 0.0972 - val_loss: 2.2421 - val_accuracy: 0.2277\n",
      "Epoch 63/100\n",
      "157/157 [==============================] - 1s 5ms/step - loss: 2.3082 - accuracy: 0.1066 - val_loss: 2.2488 - val_accuracy: 0.2011\n",
      "Epoch 64/100\n",
      "157/157 [==============================] - 1s 5ms/step - loss: 2.3090 - accuracy: 0.1006 - val_loss: 2.2439 - val_accuracy: 0.1094\n",
      "Epoch 65/100\n",
      "157/157 [==============================] - 1s 5ms/step - loss: 2.3068 - accuracy: 0.1020 - val_loss: 2.2488 - val_accuracy: 0.1909\n",
      "Epoch 66/100\n",
      "157/157 [==============================] - 1s 5ms/step - loss: 2.3090 - accuracy: 0.0928 - val_loss: 2.2478 - val_accuracy: 0.1137\n",
      "Epoch 67/100\n",
      "157/157 [==============================] - 1s 5ms/step - loss: 2.3085 - accuracy: 0.0962 - val_loss: 2.2486 - val_accuracy: 0.0999\n",
      "Epoch 68/100\n",
      "157/157 [==============================] - 1s 5ms/step - loss: 2.3082 - accuracy: 0.1000 - val_loss: 2.2421 - val_accuracy: 0.1309\n",
      "Epoch 69/100\n",
      "157/157 [==============================] - 1s 5ms/step - loss: 2.3074 - accuracy: 0.0982 - val_loss: 2.2495 - val_accuracy: 0.1511\n",
      "Epoch 70/100\n",
      "157/157 [==============================] - 1s 5ms/step - loss: 2.3093 - accuracy: 0.0948 - val_loss: 2.2449 - val_accuracy: 0.1011\n",
      "Epoch 71/100\n",
      "157/157 [==============================] - 1s 5ms/step - loss: 2.3073 - accuracy: 0.0986 - val_loss: 2.2456 - val_accuracy: 0.2313\n",
      "Epoch 72/100\n",
      "157/157 [==============================] - 1s 5ms/step - loss: 2.3084 - accuracy: 0.0988 - val_loss: 2.2442 - val_accuracy: 0.2250\n",
      "Epoch 73/100\n",
      "157/157 [==============================] - 1s 5ms/step - loss: 2.3076 - accuracy: 0.1010 - val_loss: 2.2441 - val_accuracy: 0.2320\n",
      "Epoch 74/100\n",
      "157/157 [==============================] - 1s 5ms/step - loss: 2.3077 - accuracy: 0.1028 - val_loss: 2.2472 - val_accuracy: 0.1324\n",
      "Epoch 75/100\n",
      "157/157 [==============================] - 1s 5ms/step - loss: 2.3078 - accuracy: 0.1002 - val_loss: 2.2567 - val_accuracy: 0.1814\n",
      "Epoch 76/100\n",
      "157/157 [==============================] - 1s 5ms/step - loss: 2.3089 - accuracy: 0.0974 - val_loss: 2.2545 - val_accuracy: 0.0999\n",
      "Epoch 77/100\n",
      "157/157 [==============================] - 1s 5ms/step - loss: 2.3096 - accuracy: 0.0936 - val_loss: 2.2437 - val_accuracy: 0.2227\n",
      "Epoch 78/100\n",
      "157/157 [==============================] - 1s 5ms/step - loss: 2.3089 - accuracy: 0.0934 - val_loss: 2.2470 - val_accuracy: 0.2030\n",
      "Epoch 79/100\n",
      "157/157 [==============================] - 1s 5ms/step - loss: 2.3083 - accuracy: 0.0984 - val_loss: 2.2466 - val_accuracy: 0.2066\n",
      "Epoch 80/100\n",
      "157/157 [==============================] - 1s 5ms/step - loss: 2.3094 - accuracy: 0.0902 - val_loss: 2.2391 - val_accuracy: 0.4634\n",
      "Epoch 81/100\n",
      "157/157 [==============================] - 1s 5ms/step - loss: 2.3088 - accuracy: 0.0942 - val_loss: 2.2474 - val_accuracy: 0.1331\n",
      "Epoch 82/100\n",
      "157/157 [==============================] - 1s 5ms/step - loss: 2.3076 - accuracy: 0.1038 - val_loss: 2.2399 - val_accuracy: 0.3637\n",
      "Epoch 83/100\n",
      "157/157 [==============================] - 1s 5ms/step - loss: 2.3090 - accuracy: 0.0932 - val_loss: 2.2494 - val_accuracy: 0.0973\n",
      "Epoch 84/100\n",
      "157/157 [==============================] - 1s 5ms/step - loss: 2.3089 - accuracy: 0.0922 - val_loss: 2.2516 - val_accuracy: 0.2934\n",
      "Epoch 85/100\n",
      "157/157 [==============================] - 1s 5ms/step - loss: 2.3073 - accuracy: 0.1042 - val_loss: 2.2557 - val_accuracy: 0.1947\n",
      "Epoch 86/100\n",
      "157/157 [==============================] - 1s 5ms/step - loss: 2.3082 - accuracy: 0.1002 - val_loss: 2.2504 - val_accuracy: 0.1686\n",
      "Epoch 87/100\n",
      "157/157 [==============================] - 1s 5ms/step - loss: 2.3084 - accuracy: 0.1002 - val_loss: 2.2502 - val_accuracy: 0.1633\n",
      "Epoch 88/100\n",
      "157/157 [==============================] - 1s 5ms/step - loss: 2.3080 - accuracy: 0.1042 - val_loss: 2.2417 - val_accuracy: 0.1153\n",
      "Epoch 89/100\n",
      "157/157 [==============================] - 1s 5ms/step - loss: 2.3089 - accuracy: 0.0986 - val_loss: 2.2469 - val_accuracy: 0.3466\n",
      "Epoch 90/100\n",
      "157/157 [==============================] - 1s 5ms/step - loss: 2.3076 - accuracy: 0.0978 - val_loss: 2.2515 - val_accuracy: 0.0990\n",
      "Epoch 91/100\n",
      "157/157 [==============================] - 1s 5ms/step - loss: 2.3088 - accuracy: 0.0942 - val_loss: 2.2456 - val_accuracy: 0.1270\n",
      "Epoch 92/100\n",
      "157/157 [==============================] - 1s 5ms/step - loss: 2.3080 - accuracy: 0.0970 - val_loss: 2.2468 - val_accuracy: 0.2207\n",
      "Epoch 93/100\n",
      "157/157 [==============================] - 1s 5ms/step - loss: 2.3077 - accuracy: 0.0986 - val_loss: 2.2564 - val_accuracy: 0.1011\n",
      "Epoch 94/100\n",
      "157/157 [==============================] - 1s 5ms/step - loss: 2.3080 - accuracy: 0.1008 - val_loss: 2.2500 - val_accuracy: 0.1060\n",
      "Epoch 95/100\n",
      "157/157 [==============================] - 1s 5ms/step - loss: 2.3079 - accuracy: 0.1012 - val_loss: 2.2442 - val_accuracy: 0.1043\n",
      "Epoch 96/100\n",
      "157/157 [==============================] - 1s 5ms/step - loss: 2.3080 - accuracy: 0.0988 - val_loss: 2.2511 - val_accuracy: 0.0999\n",
      "Epoch 97/100\n",
      "157/157 [==============================] - 1s 5ms/step - loss: 2.3076 - accuracy: 0.1036 - val_loss: 2.2447 - val_accuracy: 0.1983\n",
      "Epoch 98/100\n",
      "157/157 [==============================] - 1s 5ms/step - loss: 2.3076 - accuracy: 0.0968 - val_loss: 2.2512 - val_accuracy: 0.1251\n",
      "Epoch 99/100\n",
      "157/157 [==============================] - 1s 5ms/step - loss: 2.3093 - accuracy: 0.0970 - val_loss: 2.2435 - val_accuracy: 0.2033\n",
      "Epoch 100/100\n",
      "157/157 [==============================] - 1s 5ms/step - loss: 2.3093 - accuracy: 0.1004 - val_loss: 2.2487 - val_accuracy: 0.3146\n"
     ]
    }
   ],
   "source": [
    "param_distribs = {\n",
    "    'n_hidden': [0, 1, 2, 3],\n",
    "    'n_neurons': np.arange(1, 100),\n",
    "}\n",
    "\n",
    "rnd_search_cv = RandomizedSearchCV(history, param_distribs, n_iter=10, cv=3)\n",
    "history = model.fit(X_train, y_train, epochs=100, validation_data=(X_valid, y_valid), callbacks=[checkpoint_cb])"
   ]
  },
  {
   "cell_type": "code",
   "execution_count": 77,
   "metadata": {},
   "outputs": [],
   "source": [
    "model.save('2. history.h5')"
   ]
  },
  {
   "cell_type": "code",
   "execution_count": 79,
   "metadata": {},
   "outputs": [
    {
     "ename": "AttributeError",
     "evalue": "'History' object has no attribute 'best_params_'",
     "output_type": "error",
     "traceback": [
      "\u001b[1;31m---------------------------------------------------------------------------\u001b[0m",
      "\u001b[1;31mAttributeError\u001b[0m                            Traceback (most recent call last)",
      "\u001b[1;32m<ipython-input-79-cdce9363a7f2>\u001b[0m in \u001b[0;36m<module>\u001b[1;34m\u001b[0m\n\u001b[1;32m----> 1\u001b[1;33m \u001b[0mhistory\u001b[0m\u001b[1;33m.\u001b[0m\u001b[0mbest_params_\u001b[0m\u001b[1;33m\u001b[0m\u001b[1;33m\u001b[0m\u001b[0m\n\u001b[0m",
      "\u001b[1;31mAttributeError\u001b[0m: 'History' object has no attribute 'best_params_'"
     ]
    }
   ],
   "source": [
    "history.best_params_"
   ]
  },
  {
   "cell_type": "code",
   "execution_count": null,
   "metadata": {},
   "outputs": [],
   "source": []
  }
 ],
 "metadata": {
  "kernelspec": {
   "display_name": "Python 3",
   "language": "python",
   "name": "python3"
  },
  "language_info": {
   "codemirror_mode": {
    "name": "ipython",
    "version": 3
   },
   "file_extension": ".py",
   "mimetype": "text/x-python",
   "name": "python",
   "nbconvert_exporter": "python",
   "pygments_lexer": "ipython3",
   "version": "3.7.3"
  }
 },
 "nbformat": 4,
 "nbformat_minor": 2
}
